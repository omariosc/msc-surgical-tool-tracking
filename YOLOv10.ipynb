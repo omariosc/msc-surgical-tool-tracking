{
 "cells": [
  {
   "cell_type": "code",
   "execution_count": null,
   "metadata": {},
   "outputs": [],
   "source": [
    "from ultralytics import YOLOv10\n",
    "import supervision as sv\n",
    "\n",
    "model = YOLOv10(\"weights/yolov10l.pt\")\n",
    "\n",
    "# model.track(\"data/6DOF/Dataset.mp4\", show=True)"
   ]
  }
 ],
 "metadata": {
  "language_info": {
   "name": "python"
  }
 },
 "nbformat": 4,
 "nbformat_minor": 2
}
